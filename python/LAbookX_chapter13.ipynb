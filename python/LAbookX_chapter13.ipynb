{
 "cells": [
  {
   "cell_type": "markdown",
   "metadata": {},
   "source": [
    "#      BOOK: Linear Algebra: Theory, Intuition, Code\n",
    "####     AUTHOR: Mike X Cohen\n",
    "####    WEBSITE: sincxpress.com\n",
    "\n",
    "##    CHAPTER: Projections and orthogonalization (chapter 13)"
   ]
  },
  {
   "cell_type": "code",
   "execution_count": null,
   "metadata": {},
   "outputs": [],
   "source": [
    "## import libraries for the entire chapter\n",
    "import numpy as np"
   ]
  },
  {
   "cell_type": "markdown",
   "metadata": {},
   "source": [
    "### Section 13.2, code block 13.1"
   ]
  },
  {
   "cell_type": "code",
   "execution_count": null,
   "metadata": {},
   "outputs": [],
   "source": [
    "# matrix and vector\n",
    "A = [[1,2],[3,1],[1,1]]\n",
    "b = [5.5,-3.5,1.5]\n",
    "\n",
    "# least-squares solver\n",
    "np.linalg.lstsq(A,b)[0]\n"
   ]
  },
  {
   "cell_type": "markdown",
   "metadata": {},
   "source": [
    "### Section 13.6, code block 13.3"
   ]
  },
  {
   "cell_type": "code",
   "execution_count": null,
   "metadata": {},
   "outputs": [],
   "source": [
    "A = np.random.randn(4,3)\n",
    "Q,R = np.linalg.qr(A) # add ,mode='complete' for full decomp."
   ]
  },
  {
   "cell_type": "markdown",
   "metadata": {},
   "source": [
    "### Section 13.11, code block 13.5"
   ]
  },
  {
   "cell_type": "code",
   "execution_count": null,
   "metadata": {},
   "outputs": [],
   "source": [
    "# create the matrix \n",
    "m = 4\n",
    "n = 4\n",
    "A = np.random.randn(m,n)\n",
    "\n",
    "# initialize\n",
    "Q = np.zeros((m,n))\n",
    "\n",
    "\n",
    "# the GS algo\n",
    "for i in range(n):\n",
    "    \n",
    "    # initialize\n",
    "    Q[:,i] = A[:,i]\n",
    "    \n",
    "    # orthogonalize\n",
    "    a = A[:,i] # convenience\n",
    "    for j in range(i): # only to earlier cols\n",
    "        q = Q[:,j] # convenience\n",
    "        Q[:,i]=Q[:,i]-np.dot(a,q)/np.dot(q,q)*q\n",
    "    \n",
    "    # normalize\n",
    "    Q[:,i] = Q[:,i] / np.linalg.norm(Q[:,i])\n",
    "\n",
    "    \n",
    "# \"real\" QR decomposition for comparison\n",
    "Q2,R = np.linalg.qr(A)\n",
    "\n",
    "\n",
    "# note the possible sign differences.\n",
    "# seemingly non-zero columns will be 0 when adding\n",
    "Q-Q2"
   ]
  },
  {
   "cell_type": "code",
   "execution_count": null,
   "metadata": {},
   "outputs": [],
   "source": []
  }
 ],
 "metadata": {
  "kernelspec": {
   "display_name": "Python 3",
   "language": "python",
   "name": "python3"
  },
  "language_info": {
   "codemirror_mode": {
    "name": "ipython",
    "version": 3
   },
   "file_extension": ".py",
   "mimetype": "text/x-python",
   "name": "python",
   "nbconvert_exporter": "python",
   "pygments_lexer": "ipython3",
   "version": "3.7.4"
  }
 },
 "nbformat": 4,
 "nbformat_minor": 2
}
